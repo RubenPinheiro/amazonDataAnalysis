{
 "cells": [
  {
   "cell_type": "code",
   "execution_count": 1,
   "id": "380d627d-736a-4505-a67e-b385a71c0e97",
   "metadata": {},
   "outputs": [],
   "source": [
    "import pandas as pd\n",
    "import numpy as np\n",
    "import matplotlib.pyplot as plt\n",
    "import seaborn as sns\n",
    "import os"
   ]
  },
  {
   "cell_type": "code",
   "execution_count": 2,
   "id": "3bf4df81-ed90-4bef-b6ce-aaafc6fb3be9",
   "metadata": {},
   "outputs": [
    {
     "data": {
      "text/plain": [
       "['database.sqlite', 'Reviews.csv']"
      ]
     },
     "execution_count": 2,
     "metadata": {},
     "output_type": "execute_result"
    }
   ],
   "source": [
    "os.listdir(r\"C:\\Users\\ruben\\Desktop\\DataPortfolio\\Datasets\\Amazon\")"
   ]
  },
  {
   "cell_type": "code",
   "execution_count": 3,
   "id": "1e83aff9-32d0-42cd-91a4-11e23a21f47a",
   "metadata": {},
   "outputs": [],
   "source": [
    "# how to read data from a sqlite database"
   ]
  },
  {
   "cell_type": "code",
   "execution_count": 3,
   "id": "0faad835-7869-4076-8434-4bff9094e0c5",
   "metadata": {},
   "outputs": [],
   "source": [
    "import sqlite3 as sql"
   ]
  },
  {
   "cell_type": "code",
   "execution_count": 4,
   "id": "39412255-6a5b-4ec1-b1af-ed71ee4e6082",
   "metadata": {},
   "outputs": [],
   "source": [
    "con = sql.connect(r\"C:\\Users\\ruben\\Desktop\\DataPortfolio\\Datasets\\Amazon\\database.sqlite\")"
   ]
  },
  {
   "cell_type": "code",
   "execution_count": 5,
   "id": "60c93525-23b7-4307-8502-2461364459a5",
   "metadata": {},
   "outputs": [],
   "source": [
    "sql_df = pd.read_sql_query(\"SELECT * FROM REVIEWS\", con)"
   ]
  },
  {
   "cell_type": "code",
   "execution_count": 6,
   "id": "7000bb8e-23c7-442a-9070-d067ea492f4f",
   "metadata": {},
   "outputs": [
    {
     "data": {
      "text/html": [
       "<div>\n",
       "<style scoped>\n",
       "    .dataframe tbody tr th:only-of-type {\n",
       "        vertical-align: middle;\n",
       "    }\n",
       "\n",
       "    .dataframe tbody tr th {\n",
       "        vertical-align: top;\n",
       "    }\n",
       "\n",
       "    .dataframe thead th {\n",
       "        text-align: right;\n",
       "    }\n",
       "</style>\n",
       "<table border=\"1\" class=\"dataframe\">\n",
       "  <thead>\n",
       "    <tr style=\"text-align: right;\">\n",
       "      <th></th>\n",
       "      <th>Id</th>\n",
       "      <th>ProductId</th>\n",
       "      <th>UserId</th>\n",
       "      <th>ProfileName</th>\n",
       "      <th>HelpfulnessNumerator</th>\n",
       "      <th>HelpfulnessDenominator</th>\n",
       "      <th>Score</th>\n",
       "      <th>Time</th>\n",
       "      <th>Summary</th>\n",
       "      <th>Text</th>\n",
       "    </tr>\n",
       "  </thead>\n",
       "  <tbody>\n",
       "    <tr>\n",
       "      <th>0</th>\n",
       "      <td>1</td>\n",
       "      <td>B001E4KFG0</td>\n",
       "      <td>A3SGXH7AUHU8GW</td>\n",
       "      <td>delmartian</td>\n",
       "      <td>1</td>\n",
       "      <td>1</td>\n",
       "      <td>5</td>\n",
       "      <td>1303862400</td>\n",
       "      <td>Good Quality Dog Food</td>\n",
       "      <td>I have bought several of the Vitality canned d...</td>\n",
       "    </tr>\n",
       "    <tr>\n",
       "      <th>1</th>\n",
       "      <td>2</td>\n",
       "      <td>B00813GRG4</td>\n",
       "      <td>A1D87F6ZCVE5NK</td>\n",
       "      <td>dll pa</td>\n",
       "      <td>0</td>\n",
       "      <td>0</td>\n",
       "      <td>1</td>\n",
       "      <td>1346976000</td>\n",
       "      <td>Not as Advertised</td>\n",
       "      <td>Product arrived labeled as Jumbo Salted Peanut...</td>\n",
       "    </tr>\n",
       "    <tr>\n",
       "      <th>2</th>\n",
       "      <td>3</td>\n",
       "      <td>B000LQOCH0</td>\n",
       "      <td>ABXLMWJIXXAIN</td>\n",
       "      <td>Natalia Corres \"Natalia Corres\"</td>\n",
       "      <td>1</td>\n",
       "      <td>1</td>\n",
       "      <td>4</td>\n",
       "      <td>1219017600</td>\n",
       "      <td>\"Delight\" says it all</td>\n",
       "      <td>This is a confection that has been around a fe...</td>\n",
       "    </tr>\n",
       "  </tbody>\n",
       "</table>\n",
       "</div>"
      ],
      "text/plain": [
       "   Id   ProductId          UserId                      ProfileName  \\\n",
       "0   1  B001E4KFG0  A3SGXH7AUHU8GW                       delmartian   \n",
       "1   2  B00813GRG4  A1D87F6ZCVE5NK                           dll pa   \n",
       "2   3  B000LQOCH0   ABXLMWJIXXAIN  Natalia Corres \"Natalia Corres\"   \n",
       "\n",
       "   HelpfulnessNumerator  HelpfulnessDenominator  Score        Time  \\\n",
       "0                     1                       1      5  1303862400   \n",
       "1                     0                       0      1  1346976000   \n",
       "2                     1                       1      4  1219017600   \n",
       "\n",
       "                 Summary                                               Text  \n",
       "0  Good Quality Dog Food  I have bought several of the Vitality canned d...  \n",
       "1      Not as Advertised  Product arrived labeled as Jumbo Salted Peanut...  \n",
       "2  \"Delight\" says it all  This is a confection that has been around a fe...  "
      ]
     },
     "execution_count": 6,
     "metadata": {},
     "output_type": "execute_result"
    }
   ],
   "source": [
    "sql_df.head(3)"
   ]
  },
  {
   "cell_type": "code",
   "execution_count": 7,
   "id": "156945fd-a43f-47ac-92a9-614ab1b66346",
   "metadata": {},
   "outputs": [
    {
     "data": {
      "text/plain": [
       "(568454, 10)"
      ]
     },
     "execution_count": 7,
     "metadata": {},
     "output_type": "execute_result"
    }
   ],
   "source": [
    "sql_df.shape"
   ]
  },
  {
   "cell_type": "code",
   "execution_count": 8,
   "id": "d733607a-f780-4c0e-aa10-a4ab247cad47",
   "metadata": {},
   "outputs": [
    {
     "data": {
      "text/plain": [
       "Index(['Id', 'ProductId', 'UserId', 'ProfileName', 'HelpfulnessNumerator',\n",
       "       'HelpfulnessDenominator', 'Score', 'Time', 'Summary', 'Text'],\n",
       "      dtype='object')"
      ]
     },
     "execution_count": 8,
     "metadata": {},
     "output_type": "execute_result"
    }
   ],
   "source": [
    "sql_df.columns"
   ]
  },
  {
   "cell_type": "code",
   "execution_count": 18,
   "id": "aa515ed6-14f5-4664-84d0-73e9a897c168",
   "metadata": {},
   "outputs": [],
   "source": [
    "# \"129 of 134 people found the review helpful\" --> 129 = numerator / 134 = denominator"
   ]
  },
  {
   "cell_type": "code",
   "execution_count": 19,
   "id": "f734381e-ad9e-49a4-b3df-258d811392f1",
   "metadata": {},
   "outputs": [],
   "source": [
    "# if numerator bigger than the denominator, then we have invalid rows"
   ]
  },
  {
   "cell_type": "code",
   "execution_count": 7,
   "id": "37f8c743-0bb8-4dcf-88b8-2feb934935b9",
   "metadata": {},
   "outputs": [
    {
     "data": {
      "text/html": [
       "<div>\n",
       "<style scoped>\n",
       "    .dataframe tbody tr th:only-of-type {\n",
       "        vertical-align: middle;\n",
       "    }\n",
       "\n",
       "    .dataframe tbody tr th {\n",
       "        vertical-align: top;\n",
       "    }\n",
       "\n",
       "    .dataframe thead th {\n",
       "        text-align: right;\n",
       "    }\n",
       "</style>\n",
       "<table border=\"1\" class=\"dataframe\">\n",
       "  <thead>\n",
       "    <tr style=\"text-align: right;\">\n",
       "      <th></th>\n",
       "      <th>Id</th>\n",
       "      <th>ProductId</th>\n",
       "      <th>UserId</th>\n",
       "      <th>ProfileName</th>\n",
       "      <th>HelpfulnessNumerator</th>\n",
       "      <th>HelpfulnessDenominator</th>\n",
       "      <th>Score</th>\n",
       "      <th>Time</th>\n",
       "      <th>Summary</th>\n",
       "      <th>Text</th>\n",
       "    </tr>\n",
       "  </thead>\n",
       "  <tbody>\n",
       "    <tr>\n",
       "      <th>44736</th>\n",
       "      <td>44737</td>\n",
       "      <td>B001EQ55RW</td>\n",
       "      <td>A2V0I904FH7ABY</td>\n",
       "      <td>Ram</td>\n",
       "      <td>3</td>\n",
       "      <td>2</td>\n",
       "      <td>4</td>\n",
       "      <td>1212883200</td>\n",
       "      <td>Pure cocoa taste with crunchy almonds inside</td>\n",
       "      <td>It was almost a 'love at first bite' - the per...</td>\n",
       "    </tr>\n",
       "    <tr>\n",
       "      <th>64421</th>\n",
       "      <td>64422</td>\n",
       "      <td>B000MIDROQ</td>\n",
       "      <td>A161DK06JJMCYF</td>\n",
       "      <td>J. E. Stephens \"Jeanne\"</td>\n",
       "      <td>3</td>\n",
       "      <td>1</td>\n",
       "      <td>5</td>\n",
       "      <td>1224892800</td>\n",
       "      <td>Bought This for My Son at College</td>\n",
       "      <td>My son loves spaghetti so I didn't hesitate or...</td>\n",
       "    </tr>\n",
       "  </tbody>\n",
       "</table>\n",
       "</div>"
      ],
      "text/plain": [
       "          Id   ProductId          UserId              ProfileName  \\\n",
       "44736  44737  B001EQ55RW  A2V0I904FH7ABY                      Ram   \n",
       "64421  64422  B000MIDROQ  A161DK06JJMCYF  J. E. Stephens \"Jeanne\"   \n",
       "\n",
       "       HelpfulnessNumerator  HelpfulnessDenominator  Score        Time  \\\n",
       "44736                     3                       2      4  1212883200   \n",
       "64421                     3                       1      5  1224892800   \n",
       "\n",
       "                                            Summary  \\\n",
       "44736  Pure cocoa taste with crunchy almonds inside   \n",
       "64421             Bought This for My Son at College   \n",
       "\n",
       "                                                    Text  \n",
       "44736  It was almost a 'love at first bite' - the per...  \n",
       "64421  My son loves spaghetti so I didn't hesitate or...  "
      ]
     },
     "execution_count": 7,
     "metadata": {},
     "output_type": "execute_result"
    }
   ],
   "source": [
    "sql_df[sql_df['HelpfulnessNumerator'] > sql_df['HelpfulnessDenominator']]"
   ]
  },
  {
   "cell_type": "code",
   "execution_count": 34,
   "id": "0e6833ca-dc23-4a58-980d-55f13b77d2ed",
   "metadata": {},
   "outputs": [],
   "source": [
    "sql_df = sql_df[sql_df['HelpfulnessNumerator'] <= sql_df['HelpfulnessDenominator']]"
   ]
  },
  {
   "cell_type": "code",
   "execution_count": 8,
   "id": "1eebf1ab-700d-479c-aac9-42ad8c037bd5",
   "metadata": {},
   "outputs": [
    {
     "data": {
      "text/plain": [
       "(568454, 10)"
      ]
     },
     "execution_count": 8,
     "metadata": {},
     "output_type": "execute_result"
    }
   ],
   "source": [
    "sql_df.shape"
   ]
  },
  {
   "cell_type": "code",
   "execution_count": 24,
   "id": "32e7df9b-0dfa-41a7-b678-074b505a494a",
   "metadata": {},
   "outputs": [],
   "source": [
    "# if we have duplicate values considering this subset: 'UserId', 'ProfileName', 'Time', 'Text' we have to remove them"
   ]
  },
  {
   "cell_type": "code",
   "execution_count": 9,
   "id": "b15ea77d-54f3-46c1-abca-2114020c7867",
   "metadata": {},
   "outputs": [],
   "source": [
    "sql_df = sql_df.drop_duplicates(subset=['UserId', 'ProfileName', 'Time', 'Text'])"
   ]
  },
  {
   "cell_type": "code",
   "execution_count": 12,
   "id": "82c05b54-507e-4fbf-90f4-eff946a1398f",
   "metadata": {},
   "outputs": [
    {
     "data": {
      "text/plain": [
       "(393933, 10)"
      ]
     },
     "execution_count": 12,
     "metadata": {},
     "output_type": "execute_result"
    }
   ],
   "source": [
    "sql_df.shape"
   ]
  },
  {
   "cell_type": "code",
   "execution_count": 13,
   "id": "175aceb9-45f0-4806-b67d-cd8d99bf2e01",
   "metadata": {},
   "outputs": [
    {
     "data": {
      "text/plain": [
       "Id                         int64\n",
       "ProductId                 object\n",
       "UserId                    object\n",
       "ProfileName               object\n",
       "HelpfulnessNumerator       int64\n",
       "HelpfulnessDenominator     int64\n",
       "Score                      int64\n",
       "Time                       int64\n",
       "Summary                   object\n",
       "Text                      object\n",
       "dtype: object"
      ]
     },
     "execution_count": 13,
     "metadata": {},
     "output_type": "execute_result"
    }
   ],
   "source": [
    "sql_df.dtypes"
   ]
  },
  {
   "cell_type": "code",
   "execution_count": 43,
   "id": "43c07f23-a901-41f6-8556-75737804165e",
   "metadata": {},
   "outputs": [],
   "source": [
    "# converting column Time to datetime"
   ]
  },
  {
   "cell_type": "code",
   "execution_count": 10,
   "id": "25b02447-bfae-4590-8098-f7d38061bf73",
   "metadata": {},
   "outputs": [
    {
     "data": {
      "text/plain": [
       "Timestamp('1970-01-01 00:00:01.303862400')"
      ]
     },
     "execution_count": 10,
     "metadata": {},
     "output_type": "execute_result"
    }
   ],
   "source": [
    "sql_df[\"Time\"] = pd.to_datetime(sql_df[\"Time\"], unit='ns')\n",
    "sql_df[\"Time\"][0]"
   ]
  },
  {
   "cell_type": "code",
   "execution_count": 15,
   "id": "84a7b392-7e99-4337-af8c-13844cac4d4e",
   "metadata": {},
   "outputs": [
    {
     "data": {
      "text/plain": [
       "Id                                 int64\n",
       "ProductId                         object\n",
       "UserId                            object\n",
       "ProfileName                       object\n",
       "HelpfulnessNumerator               int64\n",
       "HelpfulnessDenominator             int64\n",
       "Score                              int64\n",
       "Time                      datetime64[ns]\n",
       "Summary                           object\n",
       "Text                              object\n",
       "dtype: object"
      ]
     },
     "execution_count": 15,
     "metadata": {},
     "output_type": "execute_result"
    }
   ],
   "source": [
    "sql_df.dtypes"
   ]
  },
  {
   "cell_type": "code",
   "execution_count": 55,
   "id": "03eb91a6-57c3-47f9-aeb0-565ba13457a8",
   "metadata": {},
   "outputs": [],
   "source": [
    "# rounding the Time column to seconds"
   ]
  },
  {
   "cell_type": "code",
   "execution_count": 11,
   "id": "e80a5262-ae41-4519-ba68-ee53d7fe2169",
   "metadata": {},
   "outputs": [],
   "source": [
    "sql_df[\"Time\"] = sql_df[\"Time\"].dt.floor('s')"
   ]
  },
  {
   "cell_type": "code",
   "execution_count": 12,
   "id": "05f05c80-e459-4c4f-88c7-8dcedbfbe100",
   "metadata": {},
   "outputs": [
    {
     "data": {
      "text/plain": [
       "0   1970-01-01 00:00:01\n",
       "1   1970-01-01 00:00:01\n",
       "2   1970-01-01 00:00:01\n",
       "3   1970-01-01 00:00:01\n",
       "4   1970-01-01 00:00:01\n",
       "Name: Time, dtype: datetime64[ns]"
      ]
     },
     "execution_count": 12,
     "metadata": {},
     "output_type": "execute_result"
    }
   ],
   "source": [
    "sql_df[\"Time\"].head()"
   ]
  },
  {
   "cell_type": "code",
   "execution_count": 19,
   "id": "3ec2f91b-93c2-4d0b-8ccf-451fab83be3f",
   "metadata": {},
   "outputs": [],
   "source": [
    "##QUESTION: to what kind of user should be recommend more products ##"
   ]
  },
  {
   "cell_type": "code",
   "execution_count": 20,
   "id": "7000148d-51b4-49f4-8c22-b5d4540c41e6",
   "metadata": {},
   "outputs": [],
   "source": [
    "# we should focus on users with high conversion rate"
   ]
  },
  {
   "cell_type": "code",
   "execution_count": 21,
   "id": "0ba3ae3c-67bb-4ee8-bd66-c5ac25861028",
   "metadata": {},
   "outputs": [],
   "source": [
    "# to build an array of all the unique user names , we use the unique() function"
   ]
  },
  {
   "cell_type": "code",
   "execution_count": 13,
   "id": "33856a5d-8f25-437b-8855-96e48c3c3e77",
   "metadata": {},
   "outputs": [
    {
     "data": {
      "text/plain": [
       "array(['delmartian', 'dll pa', 'Natalia Corres \"Natalia Corres\"', ...,\n",
       "       'Lettie D. Carter', 'pksd \"pk_007\"', 'srfell17'], dtype=object)"
      ]
     },
     "execution_count": 13,
     "metadata": {},
     "output_type": "execute_result"
    }
   ],
   "source": [
    "sql_df['ProfileName'].unique()"
   ]
  },
  {
   "cell_type": "code",
   "execution_count": 23,
   "id": "c788f5c6-fb36-459d-9b43-8e0ff9d59599",
   "metadata": {},
   "outputs": [],
   "source": [
    "# to count all the unique users"
   ]
  },
  {
   "cell_type": "code",
   "execution_count": 24,
   "id": "d794ff64-acaf-49ec-93ae-157d7f093e2d",
   "metadata": {},
   "outputs": [
    {
     "data": {
      "text/plain": [
       "218418"
      ]
     },
     "execution_count": 24,
     "metadata": {},
     "output_type": "execute_result"
    }
   ],
   "source": [
    "sql_df['ProfileName'].nunique()"
   ]
  },
  {
   "cell_type": "code",
   "execution_count": 25,
   "id": "2dbdf68c-e0a5-4a0d-b595-5ae5fd0999c6",
   "metadata": {},
   "outputs": [],
   "source": [
    "# this dataset allows to have duplicate Profile names, so we user UserID to avoid redundancy"
   ]
  },
  {
   "cell_type": "code",
   "execution_count": 27,
   "id": "b9c782df-1482-4384-aaf7-32c9ac58e8d6",
   "metadata": {},
   "outputs": [
    {
     "data": {
      "text/plain": [
       "256059"
      ]
     },
     "execution_count": 27,
     "metadata": {},
     "output_type": "execute_result"
    }
   ],
   "source": [
    "sql_df['UserId'].nunique()"
   ]
  },
  {
   "cell_type": "code",
   "execution_count": 28,
   "id": "62896dad-1be4-45c8-80e7-a478844d9443",
   "metadata": {},
   "outputs": [],
   "source": [
    "# we will aggregate the userID's by highest amount of purchases, evaluations and summaries \n",
    "# we can use a dictionary to perform counts, avg calculations for each column"
   ]
  },
  {
   "cell_type": "code",
   "execution_count": 12,
   "id": "5e2ff133-eaa5-42c4-8270-99996c5cfefe",
   "metadata": {},
   "outputs": [],
   "source": [
    "rec_df = sql_df.groupby(['UserId']).aggregate({'Summary': 'count', 'Text': 'count', 'Score': 'mean', 'ProductId': 'count'}).sort_values(['ProductId'], ascending=False)"
   ]
  },
  {
   "cell_type": "code",
   "execution_count": 37,
   "id": "537a119b-9a84-4083-bdae-6f8fff906b13",
   "metadata": {},
   "outputs": [],
   "source": [
    "# renaming the column names to make them more consistent"
   ]
  },
  {
   "cell_type": "code",
   "execution_count": 13,
   "id": "14cc0b4b-92fa-4193-aff1-18f81fae8ff9",
   "metadata": {},
   "outputs": [],
   "source": [
    "rec_df.columns = ['Total of Summaries', 'Total of Texts', 'Avg Score', 'Total of Purchases']"
   ]
  },
  {
   "cell_type": "code",
   "execution_count": 16,
   "id": "d1d7339a-44c2-4ed8-a28a-52e20e5e2496",
   "metadata": {},
   "outputs": [
    {
     "data": {
      "text/html": [
       "<div>\n",
       "<style scoped>\n",
       "    .dataframe tbody tr th:only-of-type {\n",
       "        vertical-align: middle;\n",
       "    }\n",
       "\n",
       "    .dataframe tbody tr th {\n",
       "        vertical-align: top;\n",
       "    }\n",
       "\n",
       "    .dataframe thead th {\n",
       "        text-align: right;\n",
       "    }\n",
       "</style>\n",
       "<table border=\"1\" class=\"dataframe\">\n",
       "  <thead>\n",
       "    <tr style=\"text-align: right;\">\n",
       "      <th></th>\n",
       "      <th>Total of Summaries</th>\n",
       "      <th>Total of Texts</th>\n",
       "      <th>Avg Score</th>\n",
       "      <th>Total of Purchases</th>\n",
       "    </tr>\n",
       "    <tr>\n",
       "      <th>UserId</th>\n",
       "      <th></th>\n",
       "      <th></th>\n",
       "      <th></th>\n",
       "      <th></th>\n",
       "    </tr>\n",
       "  </thead>\n",
       "  <tbody>\n",
       "    <tr>\n",
       "      <th>AY12DBB0U420B</th>\n",
       "      <td>329</td>\n",
       "      <td>329</td>\n",
       "      <td>4.659574</td>\n",
       "      <td>329</td>\n",
       "    </tr>\n",
       "    <tr>\n",
       "      <th>A3OXHLG6DIBRW8</th>\n",
       "      <td>278</td>\n",
       "      <td>278</td>\n",
       "      <td>4.546763</td>\n",
       "      <td>278</td>\n",
       "    </tr>\n",
       "    <tr>\n",
       "      <th>A281NPSIMI1C2R</th>\n",
       "      <td>259</td>\n",
       "      <td>259</td>\n",
       "      <td>4.787645</td>\n",
       "      <td>259</td>\n",
       "    </tr>\n",
       "    <tr>\n",
       "      <th>A1YUL9PCJR3JTY</th>\n",
       "      <td>214</td>\n",
       "      <td>214</td>\n",
       "      <td>4.621495</td>\n",
       "      <td>214</td>\n",
       "    </tr>\n",
       "    <tr>\n",
       "      <th>A1Z54EM24Y40LL</th>\n",
       "      <td>211</td>\n",
       "      <td>211</td>\n",
       "      <td>4.383886</td>\n",
       "      <td>211</td>\n",
       "    </tr>\n",
       "    <tr>\n",
       "      <th>A2MUGFV2TDQ47K</th>\n",
       "      <td>161</td>\n",
       "      <td>161</td>\n",
       "      <td>3.826087</td>\n",
       "      <td>161</td>\n",
       "    </tr>\n",
       "    <tr>\n",
       "      <th>A3D6OI36USYOU1</th>\n",
       "      <td>146</td>\n",
       "      <td>146</td>\n",
       "      <td>4.417808</td>\n",
       "      <td>146</td>\n",
       "    </tr>\n",
       "    <tr>\n",
       "      <th>AZV26LP92E6WU</th>\n",
       "      <td>129</td>\n",
       "      <td>129</td>\n",
       "      <td>4.852713</td>\n",
       "      <td>129</td>\n",
       "    </tr>\n",
       "    <tr>\n",
       "      <th>AKMEY1BSHSDG7</th>\n",
       "      <td>119</td>\n",
       "      <td>119</td>\n",
       "      <td>4.747899</td>\n",
       "      <td>119</td>\n",
       "    </tr>\n",
       "    <tr>\n",
       "      <th>A2GEZJHBV92EVR</th>\n",
       "      <td>118</td>\n",
       "      <td>118</td>\n",
       "      <td>4.542373</td>\n",
       "      <td>118</td>\n",
       "    </tr>\n",
       "  </tbody>\n",
       "</table>\n",
       "</div>"
      ],
      "text/plain": [
       "                Total of Summaries  Total of Texts  Avg Score  \\\n",
       "UserId                                                          \n",
       "AY12DBB0U420B                  329             329   4.659574   \n",
       "A3OXHLG6DIBRW8                 278             278   4.546763   \n",
       "A281NPSIMI1C2R                 259             259   4.787645   \n",
       "A1YUL9PCJR3JTY                 214             214   4.621495   \n",
       "A1Z54EM24Y40LL                 211             211   4.383886   \n",
       "A2MUGFV2TDQ47K                 161             161   3.826087   \n",
       "A3D6OI36USYOU1                 146             146   4.417808   \n",
       "AZV26LP92E6WU                  129             129   4.852713   \n",
       "AKMEY1BSHSDG7                  119             119   4.747899   \n",
       "A2GEZJHBV92EVR                 118             118   4.542373   \n",
       "\n",
       "                Total of Purchases  \n",
       "UserId                              \n",
       "AY12DBB0U420B                  329  \n",
       "A3OXHLG6DIBRW8                 278  \n",
       "A281NPSIMI1C2R                 259  \n",
       "A1YUL9PCJR3JTY                 214  \n",
       "A1Z54EM24Y40LL                 211  \n",
       "A2MUGFV2TDQ47K                 161  \n",
       "A3D6OI36USYOU1                 146  \n",
       "AZV26LP92E6WU                  129  \n",
       "AKMEY1BSHSDG7                  119  \n",
       "A2GEZJHBV92EVR                 118  "
      ]
     },
     "execution_count": 16,
     "metadata": {},
     "output_type": "execute_result"
    }
   ],
   "source": [
    "rec_df.head(10)"
   ]
  },
  {
   "cell_type": "code",
   "execution_count": 14,
   "id": "3e8d14d4-2679-4813-aa3f-dd4a94c3e687",
   "metadata": {},
   "outputs": [],
   "source": [
    "top10 = rec_df.index[0:10]"
   ]
  },
  {
   "cell_type": "code",
   "execution_count": 15,
   "id": "7b6a95f9-62d2-4720-94b0-57e4d87fafe8",
   "metadata": {},
   "outputs": [],
   "source": [
    "top10_values = rec_df['Total of Purchases'][0:10].values"
   ]
  },
  {
   "cell_type": "code",
   "execution_count": 53,
   "id": "06c8754c-0132-4ab7-9309-1b03f51d336c",
   "metadata": {},
   "outputs": [],
   "source": [
    "# to get rid of the overlapping values"
   ]
  },
  {
   "cell_type": "code",
   "execution_count": 18,
   "id": "50f3460b-fece-4987-bf3c-024fcfb9acc9",
   "metadata": {},
   "outputs": [
    {
     "data": {
      "text/plain": [
       "([0, 1, 2, 3, 4, 5, 6, 7, 8, 9],\n",
       " [Text(0, 0, 'AY12DBB0U420B'),\n",
       "  Text(1, 0, 'A3OXHLG6DIBRW8'),\n",
       "  Text(2, 0, 'A281NPSIMI1C2R'),\n",
       "  Text(3, 0, 'A1YUL9PCJR3JTY'),\n",
       "  Text(4, 0, 'A1Z54EM24Y40LL'),\n",
       "  Text(5, 0, 'A2MUGFV2TDQ47K'),\n",
       "  Text(6, 0, 'A3D6OI36USYOU1'),\n",
       "  Text(7, 0, 'AZV26LP92E6WU'),\n",
       "  Text(8, 0, 'AKMEY1BSHSDG7'),\n",
       "  Text(9, 0, 'A2GEZJHBV92EVR')])"
      ]
     },
     "execution_count": 18,
     "metadata": {},
     "output_type": "execute_result"
    },
    {
     "data": {
      "image/png": "[encoded data removed]",
      "text/plain": [
       "<Figure size 640x480 with 1 Axes>"
      ]
     },
     "metadata": {},
     "output_type": "display_data"
    }
   ],
   "source": [
    "plt.bar(top10, top10_values)\n",
    "plt.xticks(rotation='vertical')"
   ]
  },
  {
   "cell_type": "code",
   "execution_count": 56,
   "id": "c7c7275d-8567-4055-9400-9408e66f577b",
   "metadata": {},
   "outputs": [],
   "source": [
    "# ANSWER: the bar plot shows us the top10 customers with the highest conversion rate"
   ]
  },
  {
   "cell_type": "code",
   "execution_count": 57,
   "id": "4a78c9bf-cf91-4d1d-8e61-f0b4dc469a10",
   "metadata": {},
   "outputs": [],
   "source": [
    "# QUESTION: which products have the best reviews?"
   ]
  },
  {
   "cell_type": "code",
   "execution_count": 58,
   "id": "e3edea3c-4352-4986-96fc-c26c35389826",
   "metadata": {},
   "outputs": [],
   "source": [
    "# its smart to rephrase the question since we could pick products sold only once that have a stellar review"
   ]
  },
  {
   "cell_type": "code",
   "execution_count": 59,
   "id": "9c9ad615-6e89-4e86-a414-5ec9d9bd8625",
   "metadata": {},
   "outputs": [],
   "source": [
    "# QUESTION 2.0: which frequently sold products have the best reviews?"
   ]
  },
  {
   "cell_type": "code",
   "execution_count": 19,
   "id": "97faadf1-fd9f-4c91-b722-8c50f617e7bd",
   "metadata": {},
   "outputs": [],
   "source": [
    "prod_count = sql_df['ProductId'].value_counts().to_frame()"
   ]
  },
  {
   "cell_type": "code",
   "execution_count": 20,
   "id": "f805bf4d-2ccb-4f31-a202-bdb7e317d4d9",
   "metadata": {},
   "outputs": [
    {
     "data": {
      "text/html": [
       "<div>\n",
       "<style scoped>\n",
       "    .dataframe tbody tr th:only-of-type {\n",
       "        vertical-align: middle;\n",
       "    }\n",
       "\n",
       "    .dataframe tbody tr th {\n",
       "        vertical-align: top;\n",
       "    }\n",
       "\n",
       "    .dataframe thead th {\n",
       "        text-align: right;\n",
       "    }\n",
       "</style>\n",
       "<table border=\"1\" class=\"dataframe\">\n",
       "  <thead>\n",
       "    <tr style=\"text-align: right;\">\n",
       "      <th></th>\n",
       "      <th>count</th>\n",
       "    </tr>\n",
       "    <tr>\n",
       "      <th>ProductId</th>\n",
       "      <th></th>\n",
       "    </tr>\n",
       "  </thead>\n",
       "  <tbody>\n",
       "    <tr>\n",
       "      <th>B007JFMH8M</th>\n",
       "      <td>912</td>\n",
       "    </tr>\n",
       "    <tr>\n",
       "      <th>B002QWP89S</th>\n",
       "      <td>630</td>\n",
       "    </tr>\n",
       "    <tr>\n",
       "      <th>B003B3OOPA</th>\n",
       "      <td>622</td>\n",
       "    </tr>\n",
       "    <tr>\n",
       "      <th>B001EO5Q64</th>\n",
       "      <td>566</td>\n",
       "    </tr>\n",
       "    <tr>\n",
       "      <th>B0013NUGDE</th>\n",
       "      <td>558</td>\n",
       "    </tr>\n",
       "    <tr>\n",
       "      <th>B000KV61FC</th>\n",
       "      <td>556</td>\n",
       "    </tr>\n",
       "    <tr>\n",
       "      <th>B000UBD88A</th>\n",
       "      <td>542</td>\n",
       "    </tr>\n",
       "    <tr>\n",
       "      <th>B000NMJWZO</th>\n",
       "      <td>542</td>\n",
       "    </tr>\n",
       "    <tr>\n",
       "      <th>B005K4Q37A</th>\n",
       "      <td>541</td>\n",
       "    </tr>\n",
       "    <tr>\n",
       "      <th>B0090X8IPM</th>\n",
       "      <td>530</td>\n",
       "    </tr>\n",
       "  </tbody>\n",
       "</table>\n",
       "</div>"
      ],
      "text/plain": [
       "            count\n",
       "ProductId        \n",
       "B007JFMH8M    912\n",
       "B002QWP89S    630\n",
       "B003B3OOPA    622\n",
       "B001EO5Q64    566\n",
       "B0013NUGDE    558\n",
       "B000KV61FC    556\n",
       "B000UBD88A    542\n",
       "B000NMJWZO    542\n",
       "B005K4Q37A    541\n",
       "B0090X8IPM    530"
      ]
     },
     "execution_count": 20,
     "metadata": {},
     "output_type": "execute_result"
    }
   ],
   "source": [
    "prod_count.head(10)"
   ]
  },
  {
   "cell_type": "code",
   "execution_count": 21,
   "id": "eba40c53-e87c-4e47-bcaf-2ada24e69b6d",
   "metadata": {},
   "outputs": [],
   "source": [
    "biggerThen500 = prod_count[prod_count['count'] > 500]"
   ]
  },
  {
   "cell_type": "code",
   "execution_count": 37,
   "id": "41860e1e-5728-4afd-a994-3ad2a6d3ab13",
   "metadata": {},
   "outputs": [
    {
     "data": {
      "text/html": [
       "<div>\n",
       "<style scoped>\n",
       "    .dataframe tbody tr th:only-of-type {\n",
       "        vertical-align: middle;\n",
       "    }\n",
       "\n",
       "    .dataframe tbody tr th {\n",
       "        vertical-align: top;\n",
       "    }\n",
       "\n",
       "    .dataframe thead th {\n",
       "        text-align: right;\n",
       "    }\n",
       "</style>\n",
       "<table border=\"1\" class=\"dataframe\">\n",
       "  <thead>\n",
       "    <tr style=\"text-align: right;\">\n",
       "      <th></th>\n",
       "      <th>count</th>\n",
       "    </tr>\n",
       "    <tr>\n",
       "      <th>ProductId</th>\n",
       "      <th></th>\n",
       "    </tr>\n",
       "  </thead>\n",
       "  <tbody>\n",
       "    <tr>\n",
       "      <th>B007JFMH8M</th>\n",
       "      <td>912</td>\n",
       "    </tr>\n",
       "    <tr>\n",
       "      <th>B002QWP89S</th>\n",
       "      <td>630</td>\n",
       "    </tr>\n",
       "    <tr>\n",
       "      <th>B003B3OOPA</th>\n",
       "      <td>622</td>\n",
       "    </tr>\n",
       "    <tr>\n",
       "      <th>B001EO5Q64</th>\n",
       "      <td>566</td>\n",
       "    </tr>\n",
       "    <tr>\n",
       "      <th>B0013NUGDE</th>\n",
       "      <td>558</td>\n",
       "    </tr>\n",
       "    <tr>\n",
       "      <th>B000KV61FC</th>\n",
       "      <td>556</td>\n",
       "    </tr>\n",
       "    <tr>\n",
       "      <th>B000UBD88A</th>\n",
       "      <td>542</td>\n",
       "    </tr>\n",
       "    <tr>\n",
       "      <th>B000NMJWZO</th>\n",
       "      <td>542</td>\n",
       "    </tr>\n",
       "    <tr>\n",
       "      <th>B005K4Q37A</th>\n",
       "      <td>541</td>\n",
       "    </tr>\n",
       "    <tr>\n",
       "      <th>B0090X8IPM</th>\n",
       "      <td>530</td>\n",
       "    </tr>\n",
       "    <tr>\n",
       "      <th>B005ZBZLT4</th>\n",
       "      <td>505</td>\n",
       "    </tr>\n",
       "  </tbody>\n",
       "</table>\n",
       "</div>"
      ],
      "text/plain": [
       "            count\n",
       "ProductId        \n",
       "B007JFMH8M    912\n",
       "B002QWP89S    630\n",
       "B003B3OOPA    622\n",
       "B001EO5Q64    566\n",
       "B0013NUGDE    558\n",
       "B000KV61FC    556\n",
       "B000UBD88A    542\n",
       "B000NMJWZO    542\n",
       "B005K4Q37A    541\n",
       "B0090X8IPM    530\n",
       "B005ZBZLT4    505"
      ]
     },
     "execution_count": 37,
     "metadata": {},
     "output_type": "execute_result"
    }
   ],
   "source": [
    "biggerThen500.head(25)"
   ]
  },
  {
   "cell_type": "code",
   "execution_count": 65,
   "id": "b902b5ca-0d94-4b0c-ba4c-0d39c204abcc",
   "metadata": {},
   "outputs": [],
   "source": [
    "# getting the IDs"
   ]
  },
  {
   "cell_type": "code",
   "execution_count": 23,
   "id": "eee1d47d-ccb5-4f04-8375-f18e97adccab",
   "metadata": {},
   "outputs": [
    {
     "data": {
      "text/plain": [
       "Index(['B007JFMH8M', 'B002QWP89S', 'B003B3OOPA', 'B001EO5Q64', 'B0013NUGDE',\n",
       "       'B000KV61FC', 'B000UBD88A', 'B000NMJWZO', 'B005K4Q37A', 'B0090X8IPM',\n",
       "       'B005ZBZLT4'],\n",
       "      dtype='object', name='ProductId')"
      ]
     },
     "execution_count": 23,
     "metadata": {},
     "output_type": "execute_result"
    }
   ],
   "source": [
    "biggerThen500Index = biggerThen500.index\n",
    "biggerThen500Index"
   ]
  },
  {
   "cell_type": "code",
   "execution_count": 67,
   "id": "be82589a-2c74-433f-b08e-8958b471fa06",
   "metadata": {},
   "outputs": [],
   "source": [
    "# filtering the original df to contain only the IDs above"
   ]
  },
  {
   "cell_type": "code",
   "execution_count": 24,
   "id": "193d80d3-a3a9-476a-a104-e1f56a2cea10",
   "metadata": {},
   "outputs": [],
   "source": [
    "freq_prods_df = sql_df[sql_df['ProductId'].isin(biggerThen500Index)]"
   ]
  },
  {
   "cell_type": "code",
   "execution_count": 25,
   "id": "5be38f4b-1f7d-4b98-9ba9-ed07767eff5f",
   "metadata": {},
   "outputs": [
    {
     "data": {
      "text/html": [
       "<div>\n",
       "<style scoped>\n",
       "    .dataframe tbody tr th:only-of-type {\n",
       "        vertical-align: middle;\n",
       "    }\n",
       "\n",
       "    .dataframe tbody tr th {\n",
       "        vertical-align: top;\n",
       "    }\n",
       "\n",
       "    .dataframe thead th {\n",
       "        text-align: right;\n",
       "    }\n",
       "</style>\n",
       "<table border=\"1\" class=\"dataframe\">\n",
       "  <thead>\n",
       "    <tr style=\"text-align: right;\">\n",
       "      <th></th>\n",
       "      <th>Id</th>\n",
       "      <th>ProductId</th>\n",
       "      <th>UserId</th>\n",
       "      <th>ProfileName</th>\n",
       "      <th>HelpfulnessNumerator</th>\n",
       "      <th>HelpfulnessDenominator</th>\n",
       "      <th>Score</th>\n",
       "      <th>Time</th>\n",
       "      <th>Summary</th>\n",
       "      <th>Text</th>\n",
       "    </tr>\n",
       "  </thead>\n",
       "  <tbody>\n",
       "    <tr>\n",
       "      <th>20982</th>\n",
       "      <td>20983</td>\n",
       "      <td>B002QWP89S</td>\n",
       "      <td>A21U4DR8M6I9QN</td>\n",
       "      <td>K. M Merrill \"justine\"</td>\n",
       "      <td>1</td>\n",
       "      <td>1</td>\n",
       "      <td>5</td>\n",
       "      <td>1970-01-01 00:00:01</td>\n",
       "      <td>addictive! but works for night coughing in dogs</td>\n",
       "      <td>my 12 year old sheltie has chronic brochotitis...</td>\n",
       "    </tr>\n",
       "    <tr>\n",
       "      <th>20983</th>\n",
       "      <td>20984</td>\n",
       "      <td>B002QWP89S</td>\n",
       "      <td>A17TDUBB4Z1PEC</td>\n",
       "      <td>jaded_green</td>\n",
       "      <td>1</td>\n",
       "      <td>1</td>\n",
       "      <td>5</td>\n",
       "      <td>1970-01-01 00:00:01</td>\n",
       "      <td>genuine Greenies best price</td>\n",
       "      <td>These are genuine Greenies product, not a knoc...</td>\n",
       "    </tr>\n",
       "    <tr>\n",
       "      <th>20984</th>\n",
       "      <td>20985</td>\n",
       "      <td>B002QWP89S</td>\n",
       "      <td>ABQH3WAWMSMBH</td>\n",
       "      <td>tenisbrat87</td>\n",
       "      <td>1</td>\n",
       "      <td>1</td>\n",
       "      <td>5</td>\n",
       "      <td>1970-01-01 00:00:01</td>\n",
       "      <td>Perfect for our little doggies</td>\n",
       "      <td>Our dogs love Greenies, but of course, which d...</td>\n",
       "    </tr>\n",
       "    <tr>\n",
       "      <th>20985</th>\n",
       "      <td>20986</td>\n",
       "      <td>B002QWP89S</td>\n",
       "      <td>AVTY5M74VA1BJ</td>\n",
       "      <td>tarotqueen</td>\n",
       "      <td>1</td>\n",
       "      <td>1</td>\n",
       "      <td>5</td>\n",
       "      <td>1970-01-01 00:00:01</td>\n",
       "      <td>dogs love greenies</td>\n",
       "      <td>What can I say, dogs love greenies. They begg ...</td>\n",
       "    </tr>\n",
       "    <tr>\n",
       "      <th>20986</th>\n",
       "      <td>20987</td>\n",
       "      <td>B002QWP89S</td>\n",
       "      <td>A13TNN54ZEAUB1</td>\n",
       "      <td>dcz2221</td>\n",
       "      <td>1</td>\n",
       "      <td>1</td>\n",
       "      <td>5</td>\n",
       "      <td>1970-01-01 00:00:01</td>\n",
       "      <td>Greenies review</td>\n",
       "      <td>This review is for a box of Greenies Lite for ...</td>\n",
       "    </tr>\n",
       "  </tbody>\n",
       "</table>\n",
       "</div>"
      ],
      "text/plain": [
       "          Id   ProductId          UserId             ProfileName  \\\n",
       "20982  20983  B002QWP89S  A21U4DR8M6I9QN  K. M Merrill \"justine\"   \n",
       "20983  20984  B002QWP89S  A17TDUBB4Z1PEC             jaded_green   \n",
       "20984  20985  B002QWP89S   ABQH3WAWMSMBH             tenisbrat87   \n",
       "20985  20986  B002QWP89S   AVTY5M74VA1BJ              tarotqueen   \n",
       "20986  20987  B002QWP89S  A13TNN54ZEAUB1                 dcz2221   \n",
       "\n",
       "       HelpfulnessNumerator  HelpfulnessDenominator  Score  \\\n",
       "20982                     1                       1      5   \n",
       "20983                     1                       1      5   \n",
       "20984                     1                       1      5   \n",
       "20985                     1                       1      5   \n",
       "20986                     1                       1      5   \n",
       "\n",
       "                     Time                                          Summary  \\\n",
       "20982 1970-01-01 00:00:01  addictive! but works for night coughing in dogs   \n",
       "20983 1970-01-01 00:00:01                      genuine Greenies best price   \n",
       "20984 1970-01-01 00:00:01                   Perfect for our little doggies   \n",
       "20985 1970-01-01 00:00:01                               dogs love greenies   \n",
       "20986 1970-01-01 00:00:01                                  Greenies review   \n",
       "\n",
       "                                                    Text  \n",
       "20982  my 12 year old sheltie has chronic brochotitis...  \n",
       "20983  These are genuine Greenies product, not a knoc...  \n",
       "20984  Our dogs love Greenies, but of course, which d...  \n",
       "20985  What can I say, dogs love greenies. They begg ...  \n",
       "20986  This review is for a box of Greenies Lite for ...  "
      ]
     },
     "execution_count": 25,
     "metadata": {},
     "output_type": "execute_result"
    }
   ],
   "source": [
    "freq_prods_df.head(5)"
   ]
  },
  {
   "cell_type": "code",
   "execution_count": 72,
   "id": "edf17b48-022c-4c3d-91ac-2ffd5cd9e019",
   "metadata": {},
   "outputs": [],
   "source": [
    "# drawing the plot"
   ]
  },
  {
   "cell_type": "code",
   "execution_count": 26,
   "id": "56cd5cfd-6f73-4337-a873-5143bfc465c8",
   "metadata": {},
   "outputs": [
    {
     "data": {
      "text/plain": [
       "<Axes: xlabel='count', ylabel='ProductId'>"
      ]
     },
     "execution_count": 26,
     "metadata": {},
     "output_type": "execute_result"
    },
    {
     "data": {
      "image/png": "[encoded data removed]",
      "text/plain": [
       "<Figure size 640x480 with 1 Axes>"
      ]
     },
     "metadata": {},
     "output_type": "display_data"
    }
   ],
   "source": [
    "sns.countplot(y='ProductId', data = freq_prods_df, hue='Score', palette='pastel')"
   ]
  },
  {
   "cell_type": "code",
   "execution_count": 27,
   "id": "43aae12f-004a-4a4e-bffb-d72c3b5777d9",
   "metadata": {},
   "outputs": [],
   "source": [
    "# QUESTION: frequent buyers vs not frequent buyers behaviour"
   ]
  },
  {
   "cell_type": "code",
   "execution_count": 28,
   "id": "9b259e3b-0e2e-4e8c-9027-362bbe58a4c9",
   "metadata": {},
   "outputs": [],
   "source": [
    "# we consider frequent buyers => 50 purchases"
   ]
  },
  {
   "cell_type": "code",
   "execution_count": 30,
   "id": "ac71fc93-f949-461a-b250-0e90e8e53f80",
   "metadata": {},
   "outputs": [
    {
     "data": {
      "text/plain": [
       "UserId\n",
       "AY12DBB0U420B     329\n",
       "A3OXHLG6DIBRW8    278\n",
       "A281NPSIMI1C2R    259\n",
       "A1YUL9PCJR3JTY    214\n",
       "A1Z54EM24Y40LL    211\n",
       "                 ... \n",
       "AAQPR1MSRXKTU       1\n",
       "AGO81Z6PZSF7P       1\n",
       "ALA84XWMTQBFT       1\n",
       "A1G9DK8EUR36JC      1\n",
       "A3LGQPJCZVL9UC      1\n",
       "Name: count, Length: 256059, dtype: int64"
      ]
     },
     "execution_count": 30,
     "metadata": {},
     "output_type": "execute_result"
    }
   ],
   "source": [
    "sql_df['UserId'].value_counts()"
   ]
  },
  {
   "cell_type": "code",
   "execution_count": 35,
   "id": "ee3ce936-3df7-453b-b645-f5edb6432949",
   "metadata": {},
   "outputs": [],
   "source": [
    "frequency = sql_df['UserId'].value_counts()"
   ]
  },
  {
   "cell_type": "code",
   "execution_count": 36,
   "id": "c7c8f34c-9f5e-4114-bdde-f2a92a31002a",
   "metadata": {},
   "outputs": [],
   "source": [
    "# lambda is a anonymous function (you cant see its body)\n",
    "# user is a pointer (aka looping variable) for the sql_df\n",
    "# the logic (if) checks if the count is >= 50 for each line in the sql_df"
   ]
  },
  {
   "cell_type": "code",
   "execution_count": 34,
   "id": "636f8523-5258-4fec-b45e-5e8d1a92e7fd",
   "metadata": {},
   "outputs": [
    {
     "data": {
      "text/plain": [
       "0         Not Frequent\n",
       "1         Not Frequent\n",
       "2         Not Frequent\n",
       "3         Not Frequent\n",
       "4         Not Frequent\n",
       "              ...     \n",
       "568449    Not Frequent\n",
       "568450    Not Frequent\n",
       "568451    Not Frequent\n",
       "568452    Not Frequent\n",
       "568453    Not Frequent\n",
       "Name: UserId, Length: 393933, dtype: object"
      ]
     },
     "execution_count": 34,
     "metadata": {},
     "output_type": "execute_result"
    }
   ],
   "source": [
    "sql_df['UserId'].apply(lambda user: 'Frequent' if frequency[user] >= 50 else \"Not Frequent\")"
   ]
  },
  {
   "cell_type": "code",
   "execution_count": 37,
   "id": "0ac3afc7-8fe8-414f-9b7e-bfbf1236a8c2",
   "metadata": {},
   "outputs": [],
   "source": [
    "sql_df['Buyer_type'] = sql_df['UserId'].apply(lambda user: 'Frequent' if frequency[user] >= 50 else \"Not Frequent\")"
   ]
  },
  {
   "cell_type": "code",
   "execution_count": 38,
   "id": "711f63a8-38aa-48d0-beb8-fb40d4dae8aa",
   "metadata": {},
   "outputs": [
    {
     "data": {
      "text/html": [
       "<div>\n",
       "<style scoped>\n",
       "    .dataframe tbody tr th:only-of-type {\n",
       "        vertical-align: middle;\n",
       "    }\n",
       "\n",
       "    .dataframe tbody tr th {\n",
       "        vertical-align: top;\n",
       "    }\n",
       "\n",
       "    .dataframe thead th {\n",
       "        text-align: right;\n",
       "    }\n",
       "</style>\n",
       "<table border=\"1\" class=\"dataframe\">\n",
       "  <thead>\n",
       "    <tr style=\"text-align: right;\">\n",
       "      <th></th>\n",
       "      <th>Id</th>\n",
       "      <th>ProductId</th>\n",
       "      <th>UserId</th>\n",
       "      <th>ProfileName</th>\n",
       "      <th>HelpfulnessNumerator</th>\n",
       "      <th>HelpfulnessDenominator</th>\n",
       "      <th>Score</th>\n",
       "      <th>Time</th>\n",
       "      <th>Summary</th>\n",
       "      <th>Text</th>\n",
       "      <th>Buyer_type</th>\n",
       "    </tr>\n",
       "  </thead>\n",
       "  <tbody>\n",
       "    <tr>\n",
       "      <th>0</th>\n",
       "      <td>1</td>\n",
       "      <td>B001E4KFG0</td>\n",
       "      <td>A3SGXH7AUHU8GW</td>\n",
       "      <td>delmartian</td>\n",
       "      <td>1</td>\n",
       "      <td>1</td>\n",
       "      <td>5</td>\n",
       "      <td>1970-01-01 00:00:01</td>\n",
       "      <td>Good Quality Dog Food</td>\n",
       "      <td>I have bought several of the Vitality canned d...</td>\n",
       "      <td>Not Frequent</td>\n",
       "    </tr>\n",
       "    <tr>\n",
       "      <th>1</th>\n",
       "      <td>2</td>\n",
       "      <td>B00813GRG4</td>\n",
       "      <td>A1D87F6ZCVE5NK</td>\n",
       "      <td>dll pa</td>\n",
       "      <td>0</td>\n",
       "      <td>0</td>\n",
       "      <td>1</td>\n",
       "      <td>1970-01-01 00:00:01</td>\n",
       "      <td>Not as Advertised</td>\n",
       "      <td>Product arrived labeled as Jumbo Salted Peanut...</td>\n",
       "      <td>Not Frequent</td>\n",
       "    </tr>\n",
       "    <tr>\n",
       "      <th>2</th>\n",
       "      <td>3</td>\n",
       "      <td>B000LQOCH0</td>\n",
       "      <td>ABXLMWJIXXAIN</td>\n",
       "      <td>Natalia Corres \"Natalia Corres\"</td>\n",
       "      <td>1</td>\n",
       "      <td>1</td>\n",
       "      <td>4</td>\n",
       "      <td>1970-01-01 00:00:01</td>\n",
       "      <td>\"Delight\" says it all</td>\n",
       "      <td>This is a confection that has been around a fe...</td>\n",
       "      <td>Not Frequent</td>\n",
       "    </tr>\n",
       "  </tbody>\n",
       "</table>\n",
       "</div>"
      ],
      "text/plain": [
       "   Id   ProductId          UserId                      ProfileName  \\\n",
       "0   1  B001E4KFG0  A3SGXH7AUHU8GW                       delmartian   \n",
       "1   2  B00813GRG4  A1D87F6ZCVE5NK                           dll pa   \n",
       "2   3  B000LQOCH0   ABXLMWJIXXAIN  Natalia Corres \"Natalia Corres\"   \n",
       "\n",
       "   HelpfulnessNumerator  HelpfulnessDenominator  Score                Time  \\\n",
       "0                     1                       1      5 1970-01-01 00:00:01   \n",
       "1                     0                       0      1 1970-01-01 00:00:01   \n",
       "2                     1                       1      4 1970-01-01 00:00:01   \n",
       "\n",
       "                 Summary                                               Text  \\\n",
       "0  Good Quality Dog Food  I have bought several of the Vitality canned d...   \n",
       "1      Not as Advertised  Product arrived labeled as Jumbo Salted Peanut...   \n",
       "2  \"Delight\" says it all  This is a confection that has been around a fe...   \n",
       "\n",
       "     Buyer_type  \n",
       "0  Not Frequent  \n",
       "1  Not Frequent  \n",
       "2  Not Frequent  "
      ]
     },
     "execution_count": 38,
     "metadata": {},
     "output_type": "execute_result"
    }
   ],
   "source": [
    "sql_df.head(3)"
   ]
  },
  {
   "cell_type": "code",
   "execution_count": 40,
   "id": "0833ce97-710a-4442-b134-e1fb1c00cc84",
   "metadata": {},
   "outputs": [],
   "source": [
    "not_freq_df = sql_df[sql_df['Buyer_type'] == 'Not Frequent']"
   ]
  },
  {
   "cell_type": "code",
   "execution_count": 41,
   "id": "65ffa3e6-d1cd-4eed-9677-55f65367a440",
   "metadata": {},
   "outputs": [
    {
     "data": {
      "text/html": [
       "<div>\n",
       "<style scoped>\n",
       "    .dataframe tbody tr th:only-of-type {\n",
       "        vertical-align: middle;\n",
       "    }\n",
       "\n",
       "    .dataframe tbody tr th {\n",
       "        vertical-align: top;\n",
       "    }\n",
       "\n",
       "    .dataframe thead th {\n",
       "        text-align: right;\n",
       "    }\n",
       "</style>\n",
       "<table border=\"1\" class=\"dataframe\">\n",
       "  <thead>\n",
       "    <tr style=\"text-align: right;\">\n",
       "      <th></th>\n",
       "      <th>Id</th>\n",
       "      <th>ProductId</th>\n",
       "      <th>UserId</th>\n",
       "      <th>ProfileName</th>\n",
       "      <th>HelpfulnessNumerator</th>\n",
       "      <th>HelpfulnessDenominator</th>\n",
       "      <th>Score</th>\n",
       "      <th>Time</th>\n",
       "      <th>Summary</th>\n",
       "      <th>Text</th>\n",
       "      <th>Buyer_type</th>\n",
       "    </tr>\n",
       "  </thead>\n",
       "  <tbody>\n",
       "    <tr>\n",
       "      <th>0</th>\n",
       "      <td>1</td>\n",
       "      <td>B001E4KFG0</td>\n",
       "      <td>A3SGXH7AUHU8GW</td>\n",
       "      <td>delmartian</td>\n",
       "      <td>1</td>\n",
       "      <td>1</td>\n",
       "      <td>5</td>\n",
       "      <td>1970-01-01 00:00:01</td>\n",
       "      <td>Good Quality Dog Food</td>\n",
       "      <td>I have bought several of the Vitality canned d...</td>\n",
       "      <td>Not Frequent</td>\n",
       "    </tr>\n",
       "    <tr>\n",
       "      <th>1</th>\n",
       "      <td>2</td>\n",
       "      <td>B00813GRG4</td>\n",
       "      <td>A1D87F6ZCVE5NK</td>\n",
       "      <td>dll pa</td>\n",
       "      <td>0</td>\n",
       "      <td>0</td>\n",
       "      <td>1</td>\n",
       "      <td>1970-01-01 00:00:01</td>\n",
       "      <td>Not as Advertised</td>\n",
       "      <td>Product arrived labeled as Jumbo Salted Peanut...</td>\n",
       "      <td>Not Frequent</td>\n",
       "    </tr>\n",
       "    <tr>\n",
       "      <th>2</th>\n",
       "      <td>3</td>\n",
       "      <td>B000LQOCH0</td>\n",
       "      <td>ABXLMWJIXXAIN</td>\n",
       "      <td>Natalia Corres \"Natalia Corres\"</td>\n",
       "      <td>1</td>\n",
       "      <td>1</td>\n",
       "      <td>4</td>\n",
       "      <td>1970-01-01 00:00:01</td>\n",
       "      <td>\"Delight\" says it all</td>\n",
       "      <td>This is a confection that has been around a fe...</td>\n",
       "      <td>Not Frequent</td>\n",
       "    </tr>\n",
       "  </tbody>\n",
       "</table>\n",
       "</div>"
      ],
      "text/plain": [
       "   Id   ProductId          UserId                      ProfileName  \\\n",
       "0   1  B001E4KFG0  A3SGXH7AUHU8GW                       delmartian   \n",
       "1   2  B00813GRG4  A1D87F6ZCVE5NK                           dll pa   \n",
       "2   3  B000LQOCH0   ABXLMWJIXXAIN  Natalia Corres \"Natalia Corres\"   \n",
       "\n",
       "   HelpfulnessNumerator  HelpfulnessDenominator  Score                Time  \\\n",
       "0                     1                       1      5 1970-01-01 00:00:01   \n",
       "1                     0                       0      1 1970-01-01 00:00:01   \n",
       "2                     1                       1      4 1970-01-01 00:00:01   \n",
       "\n",
       "                 Summary                                               Text  \\\n",
       "0  Good Quality Dog Food  I have bought several of the Vitality canned d...   \n",
       "1      Not as Advertised  Product arrived labeled as Jumbo Salted Peanut...   \n",
       "2  \"Delight\" says it all  This is a confection that has been around a fe...   \n",
       "\n",
       "     Buyer_type  \n",
       "0  Not Frequent  \n",
       "1  Not Frequent  \n",
       "2  Not Frequent  "
      ]
     },
     "execution_count": 41,
     "metadata": {},
     "output_type": "execute_result"
    }
   ],
   "source": [
    "not_freq_df.head(3)"
   ]
  },
  {
   "cell_type": "code",
   "execution_count": 42,
   "id": "cc48e85f-86c6-47db-9bb9-2a196d43b07a",
   "metadata": {},
   "outputs": [],
   "source": [
    "freq_df = sql_df[sql_df['Buyer_type'] == 'Frequent']"
   ]
  },
  {
   "cell_type": "code",
   "execution_count": 44,
   "id": "f536cccf-bfda-4e21-bf18-5aa2dca7670c",
   "metadata": {},
   "outputs": [
    {
     "data": {
      "text/html": [
       "<div>\n",
       "<style scoped>\n",
       "    .dataframe tbody tr th:only-of-type {\n",
       "        vertical-align: middle;\n",
       "    }\n",
       "\n",
       "    .dataframe tbody tr th {\n",
       "        vertical-align: top;\n",
       "    }\n",
       "\n",
       "    .dataframe thead th {\n",
       "        text-align: right;\n",
       "    }\n",
       "</style>\n",
       "<table border=\"1\" class=\"dataframe\">\n",
       "  <thead>\n",
       "    <tr style=\"text-align: right;\">\n",
       "      <th></th>\n",
       "      <th>Id</th>\n",
       "      <th>ProductId</th>\n",
       "      <th>UserId</th>\n",
       "      <th>ProfileName</th>\n",
       "      <th>HelpfulnessNumerator</th>\n",
       "      <th>HelpfulnessDenominator</th>\n",
       "      <th>Score</th>\n",
       "      <th>Time</th>\n",
       "      <th>Summary</th>\n",
       "      <th>Text</th>\n",
       "      <th>Buyer_type</th>\n",
       "    </tr>\n",
       "  </thead>\n",
       "  <tbody>\n",
       "    <tr>\n",
       "      <th>14</th>\n",
       "      <td>15</td>\n",
       "      <td>B001GVISJM</td>\n",
       "      <td>A2MUGFV2TDQ47K</td>\n",
       "      <td>Lynrie \"Oh HELL no\"</td>\n",
       "      <td>4</td>\n",
       "      <td>5</td>\n",
       "      <td>5</td>\n",
       "      <td>1970-01-01 00:00:01</td>\n",
       "      <td>Strawberry Twizzlers - Yummy</td>\n",
       "      <td>The Strawberry Twizzlers are my guilty pleasur...</td>\n",
       "      <td>Frequent</td>\n",
       "    </tr>\n",
       "    <tr>\n",
       "      <th>44</th>\n",
       "      <td>45</td>\n",
       "      <td>B001EO5QW8</td>\n",
       "      <td>A2G7B7FKP2O2PU</td>\n",
       "      <td>D. Leschke</td>\n",
       "      <td>0</td>\n",
       "      <td>0</td>\n",
       "      <td>5</td>\n",
       "      <td>1970-01-01 00:00:01</td>\n",
       "      <td>Great taste and convenience</td>\n",
       "      <td>We really like the McCann's steel cut oats but...</td>\n",
       "      <td>Frequent</td>\n",
       "    </tr>\n",
       "    <tr>\n",
       "      <th>46</th>\n",
       "      <td>47</td>\n",
       "      <td>B001EO5QW8</td>\n",
       "      <td>AQLL2R1PPR46X</td>\n",
       "      <td>grumpyrainbow</td>\n",
       "      <td>0</td>\n",
       "      <td>0</td>\n",
       "      <td>5</td>\n",
       "      <td>1970-01-01 00:00:01</td>\n",
       "      <td>good</td>\n",
       "      <td>Good oatmeal.  I like the apple cinnamon the b...</td>\n",
       "      <td>Frequent</td>\n",
       "    </tr>\n",
       "  </tbody>\n",
       "</table>\n",
       "</div>"
      ],
      "text/plain": [
       "    Id   ProductId          UserId          ProfileName  HelpfulnessNumerator  \\\n",
       "14  15  B001GVISJM  A2MUGFV2TDQ47K  Lynrie \"Oh HELL no\"                     4   \n",
       "44  45  B001EO5QW8  A2G7B7FKP2O2PU           D. Leschke                     0   \n",
       "46  47  B001EO5QW8   AQLL2R1PPR46X        grumpyrainbow                     0   \n",
       "\n",
       "    HelpfulnessDenominator  Score                Time  \\\n",
       "14                       5      5 1970-01-01 00:00:01   \n",
       "44                       0      5 1970-01-01 00:00:01   \n",
       "46                       0      5 1970-01-01 00:00:01   \n",
       "\n",
       "                         Summary  \\\n",
       "14  Strawberry Twizzlers - Yummy   \n",
       "44   Great taste and convenience   \n",
       "46                          good   \n",
       "\n",
       "                                                 Text Buyer_type  \n",
       "14  The Strawberry Twizzlers are my guilty pleasur...   Frequent  \n",
       "44  We really like the McCann's steel cut oats but...   Frequent  \n",
       "46  Good oatmeal.  I like the apple cinnamon the b...   Frequent  "
      ]
     },
     "execution_count": 44,
     "metadata": {},
     "output_type": "execute_result"
    }
   ],
   "source": [
    "freq_df.head(3)"
   ]
  },
  {
   "cell_type": "code",
   "execution_count": 55,
   "id": "1893d9c7-0901-46e1-9f53-60027eae5343",
   "metadata": {},
   "outputs": [],
   "source": [
    "# build score percentages for both df"
   ]
  },
  {
   "cell_type": "code",
   "execution_count": 49,
   "id": "0753f435-5a89-4020-9a12-52198a43eb51",
   "metadata": {},
   "outputs": [],
   "source": [
    "not_freq_perc = not_freq_df['Score'].value_counts(normalize=True) * 100\n",
    "freq_perc = freq_df['Score'].value_counts(normalize=True) * 100"
   ]
  },
  {
   "cell_type": "code",
   "execution_count": 46,
   "id": "22092938-46a2-41ec-b3c5-0d5fff2d82d4",
   "metadata": {},
   "outputs": [],
   "source": [
    "# combine percentages into a songle DataFrame for plotting"
   ]
  },
  {
   "cell_type": "code",
   "execution_count": 50,
   "id": "cec42746-502c-4fe7-afc2-7b583df6ae9e",
   "metadata": {},
   "outputs": [],
   "source": [
    "score_comparison = pd.DataFrame({\n",
    "    'Not Frequent': not_freq_perc,\n",
    "    'Frequent': freq_perc\n",
    "}).fillna(0)"
   ]
  },
  {
   "cell_type": "code",
   "execution_count": 51,
   "id": "8066a908-f421-4f11-a009-e6b3b7a2dab5",
   "metadata": {},
   "outputs": [
    {
     "data": {
      "image/png": "[encoded data removed]",
      "text/plain": [
       "<Figure size 1000x600 with 1 Axes>"
      ]
     },
     "metadata": {},
     "output_type": "display_data"
    }
   ],
   "source": [
    "ax = score_comparison.plot(kind='bar', figsize=(10, 6))\n",
    "ax.set_title('Percentage Distribution of Scores by Buyer Type')\n",
    "ax.set_xlabel('Score')\n",
    "ax.set_ylabel('Percentage')\n",
    "ax.legend(title='Buyer Type')\n",
    "\n",
    "plt.xticks(rotation=0)\n",
    "plt.show()"
   ]
  },
  {
   "cell_type": "code",
   "execution_count": 52,
   "id": "90b50d0a-734d-4a97-8ebe-2e418c07c094",
   "metadata": {},
   "outputs": [],
   "source": [
    "# QUESTION: do frequent buyers write bigger reviews?"
   ]
  },
  {
   "cell_type": "code",
   "execution_count": 53,
   "id": "4abad693-b676-4e95-9cf2-556f767786c6",
   "metadata": {},
   "outputs": [],
   "source": [
    "# we will use a box plot to obtain the percentiles"
   ]
  },
  {
   "cell_type": "code",
   "execution_count": 56,
   "id": "bd0cafa3-1012-4240-9799-a7d96f838d2c",
   "metadata": {},
   "outputs": [],
   "source": [
    "# calculate the total amount of characters in the Text column for both df"
   ]
  },
  {
   "cell_type": "code",
   "execution_count": 64,
   "id": "2242e4cd-58d1-4a8b-b0b4-0dd23b318970",
   "metadata": {},
   "outputs": [
    {
     "name": "stderr",
     "output_type": "stream",
     "text": [
      "C:\\Users\\ruben\\AppData\\Local\\Temp\\ipykernel_41004\\2198956293.py:1: SettingWithCopyWarning: \n",
      "A value is trying to be set on a copy of a slice from a DataFrame.\n",
      "Try using .loc[row_indexer,col_indexer] = value instead\n",
      "\n",
      "See the caveats in the documentation: https://pandas.pydata.org/pandas-docs/stable/user_guide/indexing.html#returning-a-view-versus-a-copy\n",
      "  freq_df['Total_charac'] = freq_df['Text'].apply(len)\n",
      "C:\\Users\\ruben\\AppData\\Local\\Temp\\ipykernel_41004\\2198956293.py:2: SettingWithCopyWarning: \n",
      "A value is trying to be set on a copy of a slice from a DataFrame.\n",
      "Try using .loc[row_indexer,col_indexer] = value instead\n",
      "\n",
      "See the caveats in the documentation: https://pandas.pydata.org/pandas-docs/stable/user_guide/indexing.html#returning-a-view-versus-a-copy\n",
      "  not_freq_df['Total_charac'] = not_freq_df['Text'].apply(len)\n"
     ]
    }
   ],
   "source": [
    "freq_df['Total_charac'] = freq_df['Text'].apply(len)\n",
    "not_freq_df['Total_charac'] = not_freq_df['Text'].apply(len)"
   ]
  },
  {
   "cell_type": "code",
   "execution_count": 65,
   "id": "34c81b12-126e-4563-b65e-7fe7805b4561",
   "metadata": {},
   "outputs": [
    {
     "data": {
      "text/html": [
       "<div>\n",
       "<style scoped>\n",
       "    .dataframe tbody tr th:only-of-type {\n",
       "        vertical-align: middle;\n",
       "    }\n",
       "\n",
       "    .dataframe tbody tr th {\n",
       "        vertical-align: top;\n",
       "    }\n",
       "\n",
       "    .dataframe thead th {\n",
       "        text-align: right;\n",
       "    }\n",
       "</style>\n",
       "<table border=\"1\" class=\"dataframe\">\n",
       "  <thead>\n",
       "    <tr style=\"text-align: right;\">\n",
       "      <th></th>\n",
       "      <th>Id</th>\n",
       "      <th>ProductId</th>\n",
       "      <th>UserId</th>\n",
       "      <th>ProfileName</th>\n",
       "      <th>HelpfulnessNumerator</th>\n",
       "      <th>HelpfulnessDenominator</th>\n",
       "      <th>Score</th>\n",
       "      <th>Time</th>\n",
       "      <th>Summary</th>\n",
       "      <th>Text</th>\n",
       "      <th>Buyer_type</th>\n",
       "      <th>total_charac</th>\n",
       "      <th>Total_charac</th>\n",
       "    </tr>\n",
       "  </thead>\n",
       "  <tbody>\n",
       "    <tr>\n",
       "      <th>14</th>\n",
       "      <td>15</td>\n",
       "      <td>B001GVISJM</td>\n",
       "      <td>A2MUGFV2TDQ47K</td>\n",
       "      <td>Lynrie \"Oh HELL no\"</td>\n",
       "      <td>4</td>\n",
       "      <td>5</td>\n",
       "      <td>5</td>\n",
       "      <td>1970-01-01 00:00:01</td>\n",
       "      <td>Strawberry Twizzlers - Yummy</td>\n",
       "      <td>The Strawberry Twizzlers are my guilty pleasur...</td>\n",
       "      <td>Frequent</td>\n",
       "      <td>113</td>\n",
       "      <td>113</td>\n",
       "    </tr>\n",
       "    <tr>\n",
       "      <th>44</th>\n",
       "      <td>45</td>\n",
       "      <td>B001EO5QW8</td>\n",
       "      <td>A2G7B7FKP2O2PU</td>\n",
       "      <td>D. Leschke</td>\n",
       "      <td>0</td>\n",
       "      <td>0</td>\n",
       "      <td>5</td>\n",
       "      <td>1970-01-01 00:00:01</td>\n",
       "      <td>Great taste and convenience</td>\n",
       "      <td>We really like the McCann's steel cut oats but...</td>\n",
       "      <td>Frequent</td>\n",
       "      <td>244</td>\n",
       "      <td>244</td>\n",
       "    </tr>\n",
       "    <tr>\n",
       "      <th>46</th>\n",
       "      <td>47</td>\n",
       "      <td>B001EO5QW8</td>\n",
       "      <td>AQLL2R1PPR46X</td>\n",
       "      <td>grumpyrainbow</td>\n",
       "      <td>0</td>\n",
       "      <td>0</td>\n",
       "      <td>5</td>\n",
       "      <td>1970-01-01 00:00:01</td>\n",
       "      <td>good</td>\n",
       "      <td>Good oatmeal.  I like the apple cinnamon the b...</td>\n",
       "      <td>Frequent</td>\n",
       "      <td>244</td>\n",
       "      <td>244</td>\n",
       "    </tr>\n",
       "  </tbody>\n",
       "</table>\n",
       "</div>"
      ],
      "text/plain": [
       "    Id   ProductId          UserId          ProfileName  HelpfulnessNumerator  \\\n",
       "14  15  B001GVISJM  A2MUGFV2TDQ47K  Lynrie \"Oh HELL no\"                     4   \n",
       "44  45  B001EO5QW8  A2G7B7FKP2O2PU           D. Leschke                     0   \n",
       "46  47  B001EO5QW8   AQLL2R1PPR46X        grumpyrainbow                     0   \n",
       "\n",
       "    HelpfulnessDenominator  Score                Time  \\\n",
       "14                       5      5 1970-01-01 00:00:01   \n",
       "44                       0      5 1970-01-01 00:00:01   \n",
       "46                       0      5 1970-01-01 00:00:01   \n",
       "\n",
       "                         Summary  \\\n",
       "14  Strawberry Twizzlers - Yummy   \n",
       "44   Great taste and convenience   \n",
       "46                          good   \n",
       "\n",
       "                                                 Text Buyer_type  \\\n",
       "14  The Strawberry Twizzlers are my guilty pleasur...   Frequent   \n",
       "44  We really like the McCann's steel cut oats but...   Frequent   \n",
       "46  Good oatmeal.  I like the apple cinnamon the b...   Frequent   \n",
       "\n",
       "    total_charac  Total_charac  \n",
       "14           113           113  \n",
       "44           244           244  \n",
       "46           244           244  "
      ]
     },
     "execution_count": 65,
     "metadata": {},
     "output_type": "execute_result"
    }
   ],
   "source": [
    "freq_df.head(3)"
   ]
  },
  {
   "cell_type": "code",
   "execution_count": 77,
   "id": "da5f5acd-3328-4a12-afdf-a437107fb64a",
   "metadata": {},
   "outputs": [],
   "source": [
    "# with the .set_ylim we remove the outliers (rare occurences of dispaired values)"
   ]
  },
  {
   "cell_type": "code",
   "execution_count": 76,
   "id": "ed00c603-50aa-4ec3-a810-3ff179ad2467",
   "metadata": {},
   "outputs": [
    {
     "data": {
      "text/plain": [
       "(0.0, 5000.0)"
      ]
     },
     "execution_count": 76,
     "metadata": {},
     "output_type": "execute_result"
    },
    {
     "data": {
      "image/png": "[encoded data removed]",
      "text/plain": [
       "<Figure size 640x480 with 2 Axes>"
      ]
     },
     "metadata": {},
     "output_type": "display_data"
    }
   ],
   "source": [
    "fig = plt.figure()\n",
    "\n",
    "ax1  = fig.add_subplot(121)\n",
    "ax1.boxplot(freq_df['Total_charac'])\n",
    "ax1.set_xlabel('Frequency of frequent buyers')\n",
    "ax1.set_ylim(0, 4000)\n",
    "\n",
    "ax2  = fig.add_subplot(122)\n",
    "ax2.boxplot(not_freq_df['Total_charac'])\n",
    "ax2.set_xlabel('Frequency of not frequent buyers')\n",
    "ax2.set_ylim(0, 5000)"
   ]
  },
  {
   "cell_type": "code",
   "execution_count": 78,
   "id": "c3bf6dbf-1751-4e7d-8d49-d531480a3dba",
   "metadata": {},
   "outputs": [],
   "source": [
    "# median (orange line) - middle value of the dataset\n",
    "# For frequent buyers, the median is around 750 characters\n",
    "# For not frequent buyers, the median is around 250 characters\n",
    "\n",
    "# Interquartile Range (IQR) (Box) - the middle 50% of the data, from the 25th percentile (Q1) to the 75th percentile (Q3)\n",
    "# For frequent buyers, the IQR ranges from about 400 to 1100 characters.\n",
    "# For not frequent buyers, the IQR ranges from about 100 to 400 characters\n",
    "\n",
    "# Whiskers - The whiskers extend from the box to the smallest and largest values within 1.5 times the IQR from the quartiles\n",
    "# For frequent buyers, the whiskers extend from approximately 0 to 1500 characters.\n",
    "# For not frequent buyers, the whiskers extend from approximately 0 to 600 characters.\n",
    "\n",
    "# Outliers (Black Dots)"
   ]
  },
  {
   "cell_type": "code",
   "execution_count": 79,
   "id": "78e24ac7-82c8-4208-bb27-9b21309a09ea",
   "metadata": {},
   "outputs": [],
   "source": [
    "# QUESTION: Sentiment Analysis"
   ]
  },
  {
   "cell_type": "code",
   "execution_count": 81,
   "id": "2542cd5a-b8c6-4f33-ba4b-03f89bb656c5",
   "metadata": {},
   "outputs": [],
   "source": [
    "# we install textblob library to analyse subjectivity and polarity"
   ]
  },
  {
   "cell_type": "code",
   "execution_count": 99,
   "id": "ebdfcfaf-95df-42cb-8b35-8c8ead09f4f7",
   "metadata": {},
   "outputs": [],
   "source": [
    "from textblob import TextBlob\n",
    "sample = sql_df[0:50000]"
   ]
  },
  {
   "cell_type": "code",
   "execution_count": 100,
   "id": "b3d22851-b469-431f-a33a-c4dce53f5463",
   "metadata": {},
   "outputs": [],
   "source": [
    "polarity = []\n",
    "\n",
    "for text in sample['Summary']:\n",
    "    try:\n",
    "        polarity.append(TextBlob(text).sentiment.polarity)\n",
    "    except:\n",
    "        polarity.append(0)"
   ]
  },
  {
   "cell_type": "code",
   "execution_count": 101,
   "id": "01950891-fccc-41bf-b683-6e386f1341ab",
   "metadata": {},
   "outputs": [
    {
     "data": {
      "text/plain": [
       "50000"
      ]
     },
     "execution_count": 101,
     "metadata": {},
     "output_type": "execute_result"
    }
   ],
   "source": [
    "len(polarity)"
   ]
  },
  {
   "cell_type": "code",
   "execution_count": 102,
   "id": "847f5a54-0623-4e17-894f-ae905bffdc29",
   "metadata": {},
   "outputs": [
    {
     "name": "stderr",
     "output_type": "stream",
     "text": [
      "C:\\Users\\ruben\\AppData\\Local\\Temp\\ipykernel_41004\\4182253960.py:1: SettingWithCopyWarning: \n",
      "A value is trying to be set on a copy of a slice from a DataFrame.\n",
      "Try using .loc[row_indexer,col_indexer] = value instead\n",
      "\n",
      "See the caveats in the documentation: https://pandas.pydata.org/pandas-docs/stable/user_guide/indexing.html#returning-a-view-versus-a-copy\n",
      "  sample['polarity'] = polarity\n"
     ]
    }
   ],
   "source": [
    "sample['polarity'] = polarity"
   ]
  },
  {
   "cell_type": "code",
   "execution_count": 103,
   "id": "70e38e1c-9f1f-4821-8865-5778a11bd628",
   "metadata": {},
   "outputs": [
    {
     "data": {
      "text/html": [
       "<div>\n",
       "<style scoped>\n",
       "    .dataframe tbody tr th:only-of-type {\n",
       "        vertical-align: middle;\n",
       "    }\n",
       "\n",
       "    .dataframe tbody tr th {\n",
       "        vertical-align: top;\n",
       "    }\n",
       "\n",
       "    .dataframe thead th {\n",
       "        text-align: right;\n",
       "    }\n",
       "</style>\n",
       "<table border=\"1\" class=\"dataframe\">\n",
       "  <thead>\n",
       "    <tr style=\"text-align: right;\">\n",
       "      <th></th>\n",
       "      <th>Id</th>\n",
       "      <th>ProductId</th>\n",
       "      <th>UserId</th>\n",
       "      <th>ProfileName</th>\n",
       "      <th>HelpfulnessNumerator</th>\n",
       "      <th>HelpfulnessDenominator</th>\n",
       "      <th>Score</th>\n",
       "      <th>Time</th>\n",
       "      <th>Summary</th>\n",
       "      <th>Text</th>\n",
       "      <th>Buyer_type</th>\n",
       "      <th>polarity</th>\n",
       "    </tr>\n",
       "  </thead>\n",
       "  <tbody>\n",
       "    <tr>\n",
       "      <th>0</th>\n",
       "      <td>1</td>\n",
       "      <td>B001E4KFG0</td>\n",
       "      <td>A3SGXH7AUHU8GW</td>\n",
       "      <td>delmartian</td>\n",
       "      <td>1</td>\n",
       "      <td>1</td>\n",
       "      <td>5</td>\n",
       "      <td>1970-01-01 00:00:01</td>\n",
       "      <td>Good Quality Dog Food</td>\n",
       "      <td>I have bought several of the Vitality canned d...</td>\n",
       "      <td>Not Frequent</td>\n",
       "      <td>0.7</td>\n",
       "    </tr>\n",
       "    <tr>\n",
       "      <th>1</th>\n",
       "      <td>2</td>\n",
       "      <td>B00813GRG4</td>\n",
       "      <td>A1D87F6ZCVE5NK</td>\n",
       "      <td>dll pa</td>\n",
       "      <td>0</td>\n",
       "      <td>0</td>\n",
       "      <td>1</td>\n",
       "      <td>1970-01-01 00:00:01</td>\n",
       "      <td>Not as Advertised</td>\n",
       "      <td>Product arrived labeled as Jumbo Salted Peanut...</td>\n",
       "      <td>Not Frequent</td>\n",
       "      <td>0.0</td>\n",
       "    </tr>\n",
       "    <tr>\n",
       "      <th>2</th>\n",
       "      <td>3</td>\n",
       "      <td>B000LQOCH0</td>\n",
       "      <td>ABXLMWJIXXAIN</td>\n",
       "      <td>Natalia Corres \"Natalia Corres\"</td>\n",
       "      <td>1</td>\n",
       "      <td>1</td>\n",
       "      <td>4</td>\n",
       "      <td>1970-01-01 00:00:01</td>\n",
       "      <td>\"Delight\" says it all</td>\n",
       "      <td>This is a confection that has been around a fe...</td>\n",
       "      <td>Not Frequent</td>\n",
       "      <td>0.0</td>\n",
       "    </tr>\n",
       "  </tbody>\n",
       "</table>\n",
       "</div>"
      ],
      "text/plain": [
       "   Id   ProductId          UserId                      ProfileName  \\\n",
       "0   1  B001E4KFG0  A3SGXH7AUHU8GW                       delmartian   \n",
       "1   2  B00813GRG4  A1D87F6ZCVE5NK                           dll pa   \n",
       "2   3  B000LQOCH0   ABXLMWJIXXAIN  Natalia Corres \"Natalia Corres\"   \n",
       "\n",
       "   HelpfulnessNumerator  HelpfulnessDenominator  Score                Time  \\\n",
       "0                     1                       1      5 1970-01-01 00:00:01   \n",
       "1                     0                       0      1 1970-01-01 00:00:01   \n",
       "2                     1                       1      4 1970-01-01 00:00:01   \n",
       "\n",
       "                 Summary                                               Text  \\\n",
       "0  Good Quality Dog Food  I have bought several of the Vitality canned d...   \n",
       "1      Not as Advertised  Product arrived labeled as Jumbo Salted Peanut...   \n",
       "2  \"Delight\" says it all  This is a confection that has been around a fe...   \n",
       "\n",
       "     Buyer_type  polarity  \n",
       "0  Not Frequent       0.7  \n",
       "1  Not Frequent       0.0  \n",
       "2  Not Frequent       0.0  "
      ]
     },
     "execution_count": 103,
     "metadata": {},
     "output_type": "execute_result"
    }
   ],
   "source": [
    "sample.head(3)"
   ]
  },
  {
   "cell_type": "code",
   "execution_count": 94,
   "id": "22c2ecbe-71ed-4eaf-8d58-d922e2dc08da",
   "metadata": {},
   "outputs": [],
   "source": [
    "# positive reviews have polarity > 0\n",
    "# negative reviews have polarity < 0"
   ]
  },
  {
   "cell_type": "code",
   "execution_count": 104,
   "id": "6273d082-ba20-43fd-af67-740bdf96c133",
   "metadata": {},
   "outputs": [],
   "source": [
    "sample_negative = sample[sample['polarity'] < 0]\n",
    "sample_positive = sample[sample['polarity'] > 0]"
   ]
  },
  {
   "cell_type": "code",
   "execution_count": 105,
   "id": "4417700b-ca2e-41f1-8c98-5fa5f1f0ea4f",
   "metadata": {},
   "outputs": [
    {
     "data": {
      "text/plain": [
       "0                                    Good Quality Dog Food\n",
       "4                                              Great taffy\n",
       "5                                               Nice Taffy\n",
       "6            Great!  Just as good as the expensive brands!\n",
       "7                                   Wonderful, tasty taffy\n",
       "                               ...                        \n",
       "54245    Great way to have a cappuccino for around a bu...\n",
       "54248                     My favorite nescafe dolce flavor\n",
       "54249                                      My 2nd Favorite\n",
       "54250                          Best of 5 flavors available\n",
       "54252                                     pricey but good.\n",
       "Name: Summary, Length: 29155, dtype: object"
      ]
     },
     "execution_count": 105,
     "metadata": {},
     "output_type": "execute_result"
    }
   ],
   "source": [
    "sample_positive['Summary']"
   ]
  },
  {
   "cell_type": "code",
   "execution_count": 107,
   "id": "b05c6414-a79f-4411-b49d-b1a9fb6bf5bf",
   "metadata": {},
   "outputs": [],
   "source": [
    "from collections import Counter"
   ]
  },
  {
   "cell_type": "code",
   "execution_count": 108,
   "id": "a277b89d-5d4e-45cf-8549-483a8997a888",
   "metadata": {},
   "outputs": [],
   "source": [
    "# to count the most common key words"
   ]
  },
  {
   "cell_type": "code",
   "execution_count": 109,
   "id": "94ad1dff-5f14-4793-bba2-f3cd804a0174",
   "metadata": {},
   "outputs": [
    {
     "data": {
      "text/plain": [
       "[('Disappointed', 44),\n",
       " ('Disappointing', 32),\n",
       " ('Bland', 18),\n",
       " ('Awful', 17),\n",
       " ('Not what I expected', 17),\n",
       " ('Terrible', 15),\n",
       " ('Horrible', 15),\n",
       " ('disappointed', 15),\n",
       " ('Disgusting', 12),\n",
       " ('not good', 11)]"
      ]
     },
     "execution_count": 109,
     "metadata": {},
     "output_type": "execute_result"
    }
   ],
   "source": [
    "Counter(sample_negative['Summary']).most_common(10)"
   ]
  },
  {
   "cell_type": "code",
   "execution_count": 110,
   "id": "76f6e070-3b42-42c9-909d-110b5fb1c55f",
   "metadata": {},
   "outputs": [
    {
     "data": {
      "text/plain": [
       "[('Delicious!', 208),\n",
       " ('Delicious', 204),\n",
       " ('Great product', 100),\n",
       " ('Excellent', 85),\n",
       " ('Love it!', 81),\n",
       " ('Great', 81),\n",
       " ('Great Product', 77),\n",
       " ('Great!', 70),\n",
       " ('Good stuff', 51),\n",
       " ('Awesome', 50)]"
      ]
     },
     "execution_count": 110,
     "metadata": {},
     "output_type": "execute_result"
    }
   ],
   "source": [
    "Counter(sample_positive['Summary']).most_common(10)"
   ]
  },
  {
   "cell_type": "code",
   "execution_count": null,
   "id": "42bbae66-6330-4716-acfe-c0cbe4cd330c",
   "metadata": {},
   "outputs": [],
   "source": []
  }
 ],
 "metadata": {
  "kernelspec": {
   "display_name": "Python 3 (ipykernel)",
   "language": "python",
   "name": "python3"
  },
  "language_info": {
   "codemirror_mode": {
    "name": "ipython",
    "version": 3
   },
   "file_extension": ".py",
   "mimetype": "text/x-python",
   "name": "python",
   "nbconvert_exporter": "python",
   "pygments_lexer": "ipython3",
   "version": "3.12.3"
  }
 },
 "nbformat": 4,
 "nbformat_minor": 5
}
